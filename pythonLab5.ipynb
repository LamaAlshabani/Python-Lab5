{
 "cells": [
  {
   "cell_type": "code",
   "execution_count": 14,
   "id": "e76eb7f1",
   "metadata": {},
   "outputs": [
    {
     "name": "stdout",
     "output_type": "stream",
     "text": [
      "Sum of all elements in given list:  139\n",
      "Largest element is: 45\n",
      "[30, 10, 4, 2]\n",
      "[45, 30, 19, 17, 10]\n"
     ]
    }
   ],
   "source": [
    "lst =[5, 4, 17, 19, 30, 2, 7, 10, 45]\n",
    "#Q1\n",
    "total=0\n",
    "for index in range(0, len(lst)):\n",
    "    total += lst[index]\n",
    "print(\"Sum of all elements in given list: \", total)\n",
    "\n",
    "#Q2\n",
    "lst.sort(reverse=True)\n",
    "print(\"Largest element is:\", lst[0])\n",
    "\n",
    "#Q3\n",
    "lst2=[]\n",
    "for num in lst:\n",
    "    if num % 2 == 0:\n",
    "        lst2.append(num)\n",
    "print(lst2)\n",
    "\n",
    "#Q4\n",
    "print(lst[0:5])"
   ]
  },
  {
   "cell_type": "code",
   "execution_count": null,
   "id": "5a654cbb",
   "metadata": {},
   "outputs": [],
   "source": []
  }
 ],
 "metadata": {
  "kernelspec": {
   "display_name": "Python 3 (ipykernel)",
   "language": "python",
   "name": "python3"
  },
  "language_info": {
   "codemirror_mode": {
    "name": "ipython",
    "version": 3
   },
   "file_extension": ".py",
   "mimetype": "text/x-python",
   "name": "python",
   "nbconvert_exporter": "python",
   "pygments_lexer": "ipython3",
   "version": "3.10.9"
  }
 },
 "nbformat": 4,
 "nbformat_minor": 5
}
